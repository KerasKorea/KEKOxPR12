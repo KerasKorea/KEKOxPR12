{
 "cells": [
  {
   "cell_type": "markdown",
   "metadata": {},
   "source": [
    "# PR-028 DenseNet\n",
    "\n",
    "김성훈 교수님의 [DenseNet 강의](https://www.youtube.com/watch?v=fe2Vn0mwALI) 감사드립니다.\n",
    "\n",
    "CIFAR10 데이터를 DenseNet 으로 학습시킵니다.\n",
    "\n",
    "논문: https://arxiv.org/abs/1608.06993"
   ]
  },
  {
   "cell_type": "markdown",
   "metadata": {},
   "source": [
    "### Prerequisite\n",
    "\n",
    "<code> pip install opencv-python</code>\n",
    "\n",
    "<code> pip install scikit-learn</code>"
   ]
  },
  {
   "cell_type": "markdown",
   "metadata": {},
   "source": [
    "### Data Set\n",
    "케라스에서는 손쉽게 CIFAR-10 데이터를 쓸 수 있도록 api를 제공해 줍니다.\n",
    "\n",
    "또한 [data generator](https://keras.io/preprocessing/image/)를 이용하여 augmentation을 쉽게 사용할 수 있습니다."
   ]
  },
  {
   "cell_type": "code",
   "execution_count": 1,
   "metadata": {},
   "outputs": [
    {
     "name": "stderr",
     "output_type": "stream",
     "text": [
      "/usr/local/lib/python3.5/dist-packages/h5py/__init__.py:36: FutureWarning: Conversion of the second argument of issubdtype from `float` to `np.floating` is deprecated. In future, it will be treated as `np.float64 == np.dtype(float).type`.\n",
      "  from ._conv import register_converters as _register_converters\n",
      "Using TensorFlow backend.\n"
     ]
    }
   ],
   "source": [
    "import numpy as np\n",
    "\n",
    "from keras.datasets import cifar10\n",
    "from keras.preprocessing.image import ImageDataGenerator\n",
    "from keras.utils.np_utils import to_categorical\n",
    "\n",
    "from sklearn.model_selection import train_test_split\n",
    "\n",
    "(x_train, y_train), (x_test, y_test) = cifar10.load_data()\n",
    "\n",
    "# normalization\n",
    "x_train = np.array(x_train) / 127.5 - 1\n",
    "x_test = np.array(x_test) / 127.5 - 1\n",
    "\n",
    "# one-hot encoding\n",
    "y_train = np.array(y_train)\n",
    "y_test = np.array(y_test)\n",
    "y_train = to_categorical(y_train)\n",
    "y_test = to_categorical(y_test)\n",
    "\n",
    "# train data의 1/4을 validation set으로 활용합니다.\n",
    "x_train, x_val, y_train, y_val = train_test_split(x_train, y_train, test_size=0.2)\n",
    "\n",
    "datagen = ImageDataGenerator(\n",
    "    rotation_range=20,\n",
    "    width_shift_range=0.1,\n",
    "    height_shift_range=0.1,\n",
    "    zoom_range=0.1,\n",
    "    horizontal_flip=True\n",
    ")"
   ]
  },
  {
   "cell_type": "markdown",
   "metadata": {},
   "source": [
    "### Build Model\n",
    "\n",
    "논문에서는 크게 아래 사진과 같이 4개의 구조를 만들었습니다.\n",
    "\n",
    "![image.png](DenseNet.png)\n",
    "\n",
    "DenseNet-121 을 조금만 변형해서 사용해 봅니다.\n",
    "\n",
    "input_shape 를 (32, 32, 3) 으로 입력시켜 주고\n",
    "\n",
    "끝에 붙는 fully connected layer 의 크기를 10 으로 사용합니다."
   ]
  },
  {
   "cell_type": "code",
   "execution_count": 2,
   "metadata": {},
   "outputs": [],
   "source": [
    "from keras.models import Model\n",
    "from keras.regularizers import l2\n",
    "from keras.layers.normalization import BatchNormalization\n",
    "from keras.layers.merge import concatenate\n",
    "from keras.layers import Conv2D, Activation, Input, Dense\n",
    "from keras.layers.pooling import MaxPooling2D, AveragePooling2D, GlobalAveragePooling2D\n",
    "from keras.optimizers import Adam\n",
    "\n",
    "# hyperparameters\n",
    "K = 32\n",
    "init_ch = 64         # 가장 첫 layer의 채널 수 입니다.\n",
    "compression = 0.5    # transition layer 에서의 channel을 얼마나 줄일 것인지 비율입니다. 논문에서도 0.5를 사용하였습니다.\n",
    "inp_shape = (32, 32, 3)\n",
    "\n",
    "\n",
    "# conv_layer를 간편하게 쓰기 위해 wrapper 입니다.\n",
    "def conv_layer(x, filters, k, s):\n",
    "    return Conv2D(filters,\n",
    "                  kernel_size=(k, k),\n",
    "                  strides=(s, s),\n",
    "                  padding='same',\n",
    "                  kernel_regularizer=l2(0.01))(x)\n",
    "\n",
    "def dense_block(x, dense_block_size):\n",
    "    for i in range(dense_block_size):\n",
    "        tmp = x\n",
    "        \n",
    "        x = BatchNormalization()(x)\n",
    "        x = Activation('relu')(x)\n",
    "        x = conv_layer(x, 4*K, 1, 1)\n",
    "        x = BatchNormalization()(x)\n",
    "        x = Activation('relu')(x)\n",
    "        x = conv_layer(x, K, 3, 1)\n",
    "        \n",
    "        x = concatenate([x, tmp])\n",
    "        \n",
    "    return x\n",
    "\n",
    "def transition_block(x):\n",
    "    shape = x.get_shape().as_list()                    # output 의 shape을 가져옵니다.\n",
    "    compressed_channels = int(shape[3] * compression)  # compression 비율만큼 channel을 줄여 줍니다.\n",
    "    \n",
    "    x = BatchNormalization()(x)\n",
    "    x = Activation('relu')(x)\n",
    "    x = conv_layer(x, compressed_channels, 1, 1)\n",
    "    x = AveragePooling2D(pool_size=(2, 2), strides=(2, 2))(x)\n",
    "    \n",
    "    return x\n",
    "\n",
    "input_img = Input(inp_shape)\n",
    "\n",
    "x = conv_layer(input_img, init_ch, 7, 2)\n",
    "x = BatchNormalization()(x)\n",
    "x = Activation('relu')(x)\n",
    "x = MaxPooling2D(pool_size=(3, 3), strides=(2, 2), padding='same')(x)\n",
    "\n",
    "x = dense_block(x, 6)\n",
    "x = transition_block(x)\n",
    "\n",
    "x = dense_block(x, 12)\n",
    "x = transition_block(x)\n",
    "\n",
    "x = dense_block(x, 24)\n",
    "x = transition_block(x)\n",
    "\n",
    "x = dense_block(x, 16)\n",
    "\n",
    "x = GlobalAveragePooling2D()(x)\n",
    "x = Dense(10, activation='softmax')(x)\n",
    "\n",
    "dense121 = Model(input_img, x)"
   ]
  },
  {
   "cell_type": "markdown",
   "metadata": {},
   "source": [
    "### Train Model"
   ]
  },
  {
   "cell_type": "code",
   "execution_count": 3,
   "metadata": {},
   "outputs": [],
   "source": [
    "# callbacks\n",
    "from keras.callbacks import ModelCheckpoint, EarlyStopping, LearningRateScheduler\n",
    "import math\n",
    "\n",
    "def lr_schedule(epoch):\n",
    "    return max(5e-5, 5e-4 * math.pow(0.7, epoch // 5))\n",
    "\n",
    "lr_scheduler = LearningRateScheduler(lr_schedule)\n",
    "early_stopping = EarlyStopping(monitor='val_loss', patience=10)\n",
    "checkpoint = ModelCheckpoint(filepath='model_{epoch:02d}.h5', \n",
    "                             save_best_only=True, \n",
    "                             save_weights_only=True)"
   ]
  },
  {
   "cell_type": "code",
   "execution_count": 4,
   "metadata": {
    "scrolled": false
   },
   "outputs": [
    {
     "name": "stdout",
     "output_type": "stream",
     "text": [
      "Epoch 1/100\n",
      "1250/1250 [==============================] - 160s 128ms/step - loss: 19.9612 - acc: 0.3619 - val_loss: 2.2288 - val_acc: 0.4203\n",
      "Epoch 2/100\n",
      "1250/1250 [==============================] - 120s 96ms/step - loss: 1.9897 - acc: 0.4339 - val_loss: 2.0324 - val_acc: 0.4056\n",
      "Epoch 3/100\n",
      "1250/1250 [==============================] - 120s 96ms/step - loss: 1.8500 - acc: 0.4605 - val_loss: 2.0609 - val_acc: 0.3833\n",
      "Epoch 4/100\n",
      "1250/1250 [==============================] - 120s 96ms/step - loss: 1.7824 - acc: 0.4829 - val_loss: 2.3295 - val_acc: 0.3079\n",
      "Epoch 5/100\n",
      "1250/1250 [==============================] - 120s 96ms/step - loss: 1.7295 - acc: 0.5075 - val_loss: 2.2372 - val_acc: 0.3850\n",
      "Epoch 6/100\n",
      "1250/1250 [==============================] - 120s 96ms/step - loss: 1.5625 - acc: 0.5473 - val_loss: 1.6867 - val_acc: 0.5101\n",
      "Epoch 7/100\n",
      "1250/1250 [==============================] - 120s 96ms/step - loss: 1.5053 - acc: 0.5672 - val_loss: 1.6796 - val_acc: 0.5012\n",
      "Epoch 8/100\n",
      "1250/1250 [==============================] - 120s 96ms/step - loss: 1.4467 - acc: 0.5819 - val_loss: 1.4667 - val_acc: 0.5598\n",
      "Epoch 9/100\n",
      "1250/1250 [==============================] - 120s 96ms/step - loss: 1.4069 - acc: 0.5932 - val_loss: 2.6160 - val_acc: 0.4493\n",
      "Epoch 10/100\n",
      "1250/1250 [==============================] - 120s 96ms/step - loss: 1.3643 - acc: 0.6073 - val_loss: 1.3221 - val_acc: 0.6196\n",
      "Epoch 11/100\n",
      "1250/1250 [==============================] - 120s 96ms/step - loss: 1.2598 - acc: 0.6373 - val_loss: 1.3768 - val_acc: 0.5918\n",
      "Epoch 12/100\n",
      "1250/1250 [==============================] - 120s 96ms/step - loss: 1.2285 - acc: 0.6456 - val_loss: 1.2825 - val_acc: 0.6228\n",
      "Epoch 13/100\n",
      "1250/1250 [==============================] - 120s 96ms/step - loss: 1.2107 - acc: 0.6514 - val_loss: 1.2475 - val_acc: 0.6332\n",
      "Epoch 14/100\n",
      "1250/1250 [==============================] - 120s 96ms/step - loss: 1.1951 - acc: 0.6576 - val_loss: 1.3014 - val_acc: 0.6076\n",
      "Epoch 15/100\n",
      "1250/1250 [==============================] - 120s 96ms/step - loss: 1.1808 - acc: 0.6652 - val_loss: 1.3545 - val_acc: 0.6075\n",
      "Epoch 16/100\n",
      "1250/1250 [==============================] - 120s 96ms/step - loss: 1.1049 - acc: 0.6853 - val_loss: 1.0973 - val_acc: 0.6897\n",
      "Epoch 17/100\n",
      "1250/1250 [==============================] - 120s 96ms/step - loss: 1.0822 - acc: 0.6950 - val_loss: 1.1337 - val_acc: 0.6807\n",
      "Epoch 18/100\n",
      "1250/1250 [==============================] - 120s 96ms/step - loss: 1.0647 - acc: 0.6966 - val_loss: 1.1037 - val_acc: 0.6896\n",
      "Epoch 19/100\n",
      "1250/1250 [==============================] - 120s 96ms/step - loss: 1.0547 - acc: 0.7005 - val_loss: 1.0772 - val_acc: 0.6952\n",
      "Epoch 20/100\n",
      "1250/1250 [==============================] - 120s 96ms/step - loss: 1.0424 - acc: 0.7066 - val_loss: 1.0266 - val_acc: 0.7120\n",
      "Epoch 21/100\n",
      "1250/1250 [==============================] - 120s 96ms/step - loss: 0.9816 - acc: 0.7249 - val_loss: 0.9825 - val_acc: 0.7212\n",
      "Epoch 22/100\n",
      "1250/1250 [==============================] - 120s 96ms/step - loss: 0.9766 - acc: 0.7255 - val_loss: 0.9686 - val_acc: 0.7237\n",
      "Epoch 23/100\n",
      "1250/1250 [==============================] - 120s 96ms/step - loss: 0.9613 - acc: 0.7309 - val_loss: 0.9983 - val_acc: 0.7133\n",
      "Epoch 24/100\n",
      "1250/1250 [==============================] - 120s 96ms/step - loss: 0.9540 - acc: 0.7346 - val_loss: 1.0640 - val_acc: 0.6942\n",
      "Epoch 25/100\n",
      "1250/1250 [==============================] - 120s 96ms/step - loss: 0.9400 - acc: 0.7352 - val_loss: 1.0002 - val_acc: 0.7190\n",
      "Epoch 26/100\n",
      "1250/1250 [==============================] - 120s 96ms/step - loss: 0.8959 - acc: 0.7519 - val_loss: 0.9147 - val_acc: 0.7441\n",
      "Epoch 27/100\n",
      "1250/1250 [==============================] - 120s 96ms/step - loss: 0.8842 - acc: 0.7539 - val_loss: 0.8844 - val_acc: 0.7535\n",
      "Epoch 28/100\n",
      "1250/1250 [==============================] - 120s 96ms/step - loss: 0.8801 - acc: 0.7544 - val_loss: 0.9081 - val_acc: 0.7394\n",
      "Epoch 29/100\n",
      "1250/1250 [==============================] - 120s 96ms/step - loss: 0.8656 - acc: 0.7619 - val_loss: 0.9473 - val_acc: 0.7325\n",
      "Epoch 30/100\n",
      "1250/1250 [==============================] - 120s 96ms/step - loss: 0.8581 - acc: 0.7636 - val_loss: 0.9094 - val_acc: 0.7387\n",
      "Epoch 31/100\n",
      "1250/1250 [==============================] - 120s 96ms/step - loss: 0.8260 - acc: 0.7709 - val_loss: 0.8527 - val_acc: 0.7581\n",
      "Epoch 32/100\n",
      "1250/1250 [==============================] - 120s 96ms/step - loss: 0.8167 - acc: 0.7744 - val_loss: 0.8292 - val_acc: 0.7680\n",
      "Epoch 33/100\n",
      "1250/1250 [==============================] - 120s 96ms/step - loss: 0.8080 - acc: 0.7774 - val_loss: 0.8914 - val_acc: 0.7457\n",
      "Epoch 34/100\n",
      "1250/1250 [==============================] - 120s 96ms/step - loss: 0.8002 - acc: 0.7774 - val_loss: 0.8314 - val_acc: 0.7683\n",
      "Epoch 35/100\n",
      "1250/1250 [==============================] - 120s 96ms/step - loss: 0.7955 - acc: 0.7782 - val_loss: 0.8620 - val_acc: 0.7569\n",
      "Epoch 36/100\n",
      "1250/1250 [==============================] - 120s 96ms/step - loss: 0.7801 - acc: 0.7856 - val_loss: 0.8375 - val_acc: 0.7584\n",
      "Epoch 37/100\n",
      "1250/1250 [==============================] - 120s 96ms/step - loss: 0.7714 - acc: 0.7875 - val_loss: 0.8197 - val_acc: 0.7670\n",
      "Epoch 38/100\n",
      "1250/1250 [==============================] - 120s 96ms/step - loss: 0.7660 - acc: 0.7885 - val_loss: 0.8238 - val_acc: 0.7652\n",
      "Epoch 39/100\n",
      "1250/1250 [==============================] - 120s 96ms/step - loss: 0.7577 - acc: 0.7918 - val_loss: 0.8145 - val_acc: 0.7643\n",
      "Epoch 40/100\n",
      "1250/1250 [==============================] - 120s 96ms/step - loss: 0.7557 - acc: 0.7908 - val_loss: 0.8158 - val_acc: 0.7713\n",
      "Epoch 41/100\n",
      "1250/1250 [==============================] - 120s 96ms/step - loss: 0.7554 - acc: 0.7915 - val_loss: 0.7845 - val_acc: 0.7799\n",
      "Epoch 42/100\n",
      "1250/1250 [==============================] - 120s 96ms/step - loss: 0.7537 - acc: 0.7931 - val_loss: 0.7897 - val_acc: 0.7784\n",
      "Epoch 43/100\n",
      "1250/1250 [==============================] - 120s 96ms/step - loss: 0.7430 - acc: 0.7963 - val_loss: 0.8278 - val_acc: 0.7616\n",
      "Epoch 44/100\n",
      "1250/1250 [==============================] - 120s 96ms/step - loss: 0.7403 - acc: 0.7962 - val_loss: 0.7943 - val_acc: 0.7751\n",
      "Epoch 45/100\n",
      "1250/1250 [==============================] - 120s 96ms/step - loss: 0.7432 - acc: 0.7953 - val_loss: 0.7610 - val_acc: 0.7828\n",
      "Epoch 46/100\n",
      "1250/1250 [==============================] - 120s 96ms/step - loss: 0.7374 - acc: 0.7951 - val_loss: 0.8069 - val_acc: 0.7707\n",
      "Epoch 47/100\n",
      "1250/1250 [==============================] - 120s 96ms/step - loss: 0.7330 - acc: 0.7974 - val_loss: 0.7933 - val_acc: 0.7750\n",
      "Epoch 48/100\n",
      "1250/1250 [==============================] - 120s 96ms/step - loss: 0.7326 - acc: 0.7982 - val_loss: 0.8075 - val_acc: 0.7728\n",
      "Epoch 49/100\n",
      "1250/1250 [==============================] - 120s 96ms/step - loss: 0.7290 - acc: 0.7993 - val_loss: 0.7693 - val_acc: 0.7851\n",
      "Epoch 50/100\n",
      "1250/1250 [==============================] - 120s 96ms/step - loss: 0.7258 - acc: 0.7997 - val_loss: 0.7683 - val_acc: 0.7834\n",
      "Epoch 51/100\n",
      "1250/1250 [==============================] - 120s 96ms/step - loss: 0.7224 - acc: 0.7995 - val_loss: 0.8213 - val_acc: 0.7710\n",
      "Epoch 52/100\n",
      "1250/1250 [==============================] - 120s 96ms/step - loss: 0.7144 - acc: 0.8048 - val_loss: 0.7850 - val_acc: 0.7749\n",
      "Epoch 53/100\n",
      "1250/1250 [==============================] - 120s 96ms/step - loss: 0.7117 - acc: 0.8054 - val_loss: 0.8629 - val_acc: 0.7548\n",
      "Epoch 54/100\n",
      "1250/1250 [==============================] - 120s 96ms/step - loss: 0.7078 - acc: 0.8053 - val_loss: 0.8036 - val_acc: 0.7729\n",
      "Epoch 55/100\n",
      "1250/1250 [==============================] - 120s 96ms/step - loss: 0.7090 - acc: 0.8059 - val_loss: 0.8542 - val_acc: 0.7564\n"
     ]
    }
   ],
   "source": [
    "dense121.compile(optimizer=Adam(0.0), loss='categorical_crossentropy', metrics=['accuracy'])\n",
    "\n",
    "history = dense121.fit_generator(datagen.flow(x_train, y_train, batch_size=32),\n",
    "                                 steps_per_epoch=x_train.shape[0] // 32,\n",
    "                                 validation_data=datagen.flow(x_val, y_val, batch_size=8),\n",
    "                                 validation_steps=x_val.shape[0] // 8,\n",
    "                                 epochs = 100,\n",
    "                                 callbacks=[early_stopping, checkpoint, lr_scheduler])"
   ]
  },
  {
   "cell_type": "code",
   "execution_count": 5,
   "metadata": {},
   "outputs": [
    {
     "data": {
      "image/png": "[encoded data removed]",
      "text/plain": [
       "<matplotlib.figure.Figure at 0x7f5b2b7044e0>"
      ]
     },
     "metadata": {},
     "output_type": "display_data"
    }
   ],
   "source": [
    "import matplotlib.pyplot as plt\n",
    "%matplotlib inline\n",
    "\n",
    "plt.subplot(211)\n",
    "plt.title(\"accuracy\")\n",
    "plt.plot(history.history[\"acc\"], color=\"r\", label=\"train\")\n",
    "plt.plot(history.history[\"val_acc\"], color=\"b\", label=\"val\")\n",
    "plt.legend(loc=\"best\")\n",
    "\n",
    "plt.subplot(212)\n",
    "plt.title(\"loss\")\n",
    "plt.plot(history.history[\"loss\"], color=\"r\", label=\"train\")\n",
    "plt.plot(history.history[\"val_loss\"], color=\"b\", label=\"val\")\n",
    "plt.legend(loc=\"best\")\n",
    "\n",
    "plt.tight_layout()\n",
    "plt.show()"
   ]
  },
  {
   "cell_type": "markdown",
   "metadata": {},
   "source": [
    "### Evaluate Model"
   ]
  },
  {
   "cell_type": "code",
   "execution_count": 7,
   "metadata": {},
   "outputs": [
    {
     "name": "stdout",
     "output_type": "stream",
     "text": [
      "10000/10000 [==============================] - 5s 517us/step\n",
      "test score: 0.7498723788738251\n",
      "test accuracy: 0.7979\n"
     ]
    }
   ],
   "source": [
    "score = dense121.evaluate(x_test, y_test)\n",
    "\n",
    "print('test score:', score[0])\n",
    "print('test accuracy:', score[1])"
   ]
  },
  {
   "cell_type": "markdown",
   "metadata": {},
   "source": [
    "### Tip!\n",
    "\n",
    "[keras application](https://keras.io/applications/#densenet)의 densenet을 사용하면 매우 편리하게 imagenet으로 학습된 모델을 가져올 수 있습니다."
   ]
  },
  {
   "cell_type": "code",
   "execution_count": 8,
   "metadata": {},
   "outputs": [
    {
     "name": "stdout",
     "output_type": "stream",
     "text": [
      "Downloading data from https://github.com/fchollet/deep-learning-models/releases/download/v0.8/densenet121_weights_tf_dim_ordering_tf_kernels.h5\n",
      "34119680/34115984 [==============================] - 97s 3us/step\n"
     ]
    }
   ],
   "source": [
    "from keras.applications import densenet\n",
    "\n",
    "model = densenet.DenseNet121()"
   ]
  },
  {
   "cell_type": "markdown",
   "metadata": {},
   "source": [
    "## Contact me\n",
    "케라스를 사랑하는 개발자 입니다.\n",
    "\n",
    "질문, 조언, contribtuion 등 소통은 언제나 환영합니다.\n",
    "\n",
    "Anthony Kim(김동현) : artit.anthony@gmail.com"
   ]
  }
 ],
 "metadata": {
  "kernelspec": {
   "display_name": "Python 3",
   "language": "python",
   "name": "python3"
  },
  "language_info": {
   "codemirror_mode": {
    "name": "ipython",
    "version": 3
   },
   "file_extension": ".py",
   "mimetype": "text/x-python",
   "name": "python",
   "nbconvert_exporter": "python",
   "pygments_lexer": "ipython3",
   "version": "3.5.2"
  }
 },
 "nbformat": 4,
 "nbformat_minor": 2
}
