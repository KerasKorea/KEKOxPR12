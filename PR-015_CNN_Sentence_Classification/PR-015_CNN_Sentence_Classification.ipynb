{
 "cells": [
  {
   "cell_type": "markdown",
   "metadata": {},
   "source": [
    "# PR-015 CNN_Sentence_Classification\n",
    "\n",
    "곽근봉 님의 [CNN_Sentence_Classification 강의](https://www.youtube.com/watch?v=IRB2vXSet2E&index=16&list=PLlMkM4tgfjnJhhd4wn5aj8fVTYJwIpWkS) 감사드립니다.\n",
    "\n",
    "pretrain 되어진 word2vec을 활용하여 Sentence 분류를 해 봅니다.\n",
    "\n",
    "논문에서 언급한 4가지 버전을 모두 구현하지 않고\n",
    "\n",
    "**non-static** 한 방법을 사용합니다.\n",
    "\n",
    "Deep Learning with Keras - 저자 : Antonio Gulli\n",
    "\n",
    "를 참고하였습니다.\n",
    "\n",
    "논문: http://aclweb.org/anthology/D14-1181"
   ]
  },
  {
   "cell_type": "markdown",
   "metadata": {},
   "source": [
    "### Prerequisite\n",
    "\n",
    "<code>pip install genism</code>\n",
    "\n",
    "<code>pip install wget</code>\n",
    "\n",
    "<code>pip install scikit-learn</code>"
   ]
  },
  {
   "cell_type": "markdown",
   "metadata": {},
   "source": [
    "### Hyperparameters"
   ]
  },
  {
   "cell_type": "code",
   "execution_count": 1,
   "metadata": {},
   "outputs": [],
   "source": [
    "VOCAB_SIZE = 5000     # 데이터 셋에서 상위 5000 개의 토큰만 고려할 것입니다.\n",
    "EMBED_SIZE = 300      # 임베딩 크기는 300 을 사용할 것입니다.\n",
    "BATCH_SIZE = 64\n",
    "EPOCHS = 20"
   ]
  },
  {
   "cell_type": "markdown",
   "metadata": {},
   "source": [
    "### Dataset\n",
    "\n",
    "Kaggle 의 [SI 650 sentiment classification](https://www.kaggle.com/c/si650winter11/data) 데이터를 활용합니다.\n",
    "\n",
    "약 7000개의 문장이 있고 긍정은 1, 부정은 0 입니다.\n",
    "\n",
    "데이터를 다운로드 누르면 브라우저 상에서 텍스트들이 보일 겁니다.\n",
    "\n",
    "training.txt 파일을 생성하고 브라우저의 텍스트를 모두 복붙합니다."
   ]
  },
  {
   "cell_type": "code",
   "execution_count": 2,
   "metadata": {},
   "outputs": [
    {
     "name": "stdout",
     "output_type": "stream",
     "text": [
      "[nltk_data] Downloading package punkt to /home/anthony/nltk_data...\n",
      "[nltk_data]   Package punkt is already up-to-date!\n"
     ]
    },
    {
     "data": {
      "text/plain": [
       "True"
      ]
     },
     "execution_count": 2,
     "metadata": {},
     "output_type": "execute_result"
    }
   ],
   "source": [
    "import nltk\n",
    "nltk.download('punkt')"
   ]
  },
  {
   "cell_type": "code",
   "execution_count": 3,
   "metadata": {},
   "outputs": [],
   "source": [
    "from collections import Counter, defaultdict\n",
    "\n",
    "maxlen = 0\n",
    "counter = Counter()\n",
    "train_file = open('training.txt', 'r', encoding='utf-8')\n",
    "\n",
    "for line in train_file:\n",
    "    _, sentence = line.strip().split(\"\\t\")      # 텝을 기준으로 split 합니다.\n",
    "    \n",
    "    words = []\n",
    "    for token in nltk.word_tokenize(sentence):  # 문장을 단어 단위로 쪼갭니다.\n",
    "        words.append(token.lower())               # 단어를 모두 소문자로 만들어 줍니다.\n",
    "    \n",
    "    if len(words) > maxlen:\n",
    "        maxlen = len(words)                     # 문장의 최대 단어 개수를 측정합니다. 추후 패딩할 때 사용합니다.\n",
    "    \n",
    "    for word in words:\n",
    "        counter[word] += 1                      # 모든 단어의 출현 횟수를 기록합니다.\n",
    "\n",
    "train_file.close()\n",
    "\n",
    "word2index = defaultdict(int)\n",
    "for i, word in enumerate(counter.most_common(VOCAB_SIZE)):  # 가장 자주 나온 단어들만을 고려합니다.\n",
    "    word2index[word[0]] = i + 1                             # unknown data의 index 는 0 입니다.\n",
    "    \n",
    "index2word = {v:k for k, v in word2index.items()}"
   ]
  },
  {
   "cell_type": "code",
   "execution_count": 4,
   "metadata": {},
   "outputs": [
    {
     "name": "stderr",
     "output_type": "stream",
     "text": [
      "Using TensorFlow backend.\n"
     ]
    }
   ],
   "source": [
    "# 이제 각 문장을 maxlen만큼 padding 시킵니다.\n",
    "# keras 의 pad_sequence를 사용하면 간편합니다.\n",
    "from keras.preprocessing.sequence import pad_sequences\n",
    "from keras.utils.np_utils import to_categorical\n",
    "from sklearn.model_selection import train_test_split\n",
    "\n",
    "X, Y = [], []\n",
    "train_file = open('training.txt', 'r', encoding='utf-8')\n",
    "\n",
    "for line in train_file:\n",
    "    label, sentence = line.strip().split(\"\\t\")\n",
    "    \n",
    "    words = []\n",
    "    for token in nltk.word_tokenize(sentence):    # 문장을 단어 단위로 쪼갭니다.\n",
    "        words.append(token.lower())               # 단어를 모두 소문자로 만들어 줍니다.\n",
    "    \n",
    "    wids = []\n",
    "    for word in words:\n",
    "        wids.append(word2index[word])\n",
    "        \n",
    "    X.append(wids)\n",
    "    Y.append(int(label))\n",
    "    \n",
    "train_file.close()\n",
    "\n",
    "X = pad_sequences(X, maxlen=maxlen)\n",
    "Y = to_categorical(Y)\n",
    "\n",
    "X_train, X_test, Y_train, Y_test = train_test_split(X, Y, test_size=0.3)"
   ]
  },
  {
   "cell_type": "markdown",
   "metadata": {},
   "source": [
    "### Pretrained Word2Vec\n",
    "\n",
    "구글 뉴스 데이터셋에서 100억 단어 이상에 대해 학습한 모델을 가져옵니다.\n",
    "\n",
    "vocab 크기는 300만 단어이고 임베딩 차원은 300 입니다.\n",
    "\n",
    "가장 먼저 데이터를 [다운로드](https://drive.google.com/file/d/0B7XkCwpI5KDYNlNUTTlSS21pQmM/edit?usp=sharing) 받습니다.\n",
    "\n",
    "현재 프로젝트 폴더에 압축을 풀어 주세요."
   ]
  },
  {
   "cell_type": "code",
   "execution_count": 5,
   "metadata": {},
   "outputs": [],
   "source": [
    "from gensim.models import KeyedVectors\n",
    "import numpy as np\n",
    "\n",
    "# C binary 형태로 pretrain 데이터를 읽어옵니다.\n",
    "word2vec = KeyedVectors.load_word2vec_format(\"GoogleNews-vectors-negative300.bin\", binary=True)\n",
    "\n",
    "# weight를 추출합니다.\n",
    "embedding_weights = np.zeros((len(word2index) + 1, EMBED_SIZE))\n",
    "for word, index in word2index.items():\n",
    "    try:\n",
    "        embedding_weights[index, :] = word2vec[word]       # 구글 뉴스 word2vec에 포함된 단어만 가져옵니다.\n",
    "    except KeyError:                                       # 포함되지 않아, keyerror 가 발생한다면 0 그대로 둡니다.\n",
    "        pass              "
   ]
  },
  {
   "cell_type": "markdown",
   "metadata": {},
   "source": [
    "### Model Build & Train"
   ]
  },
  {
   "cell_type": "code",
   "execution_count": 10,
   "metadata": {},
   "outputs": [
    {
     "name": "stdout",
     "output_type": "stream",
     "text": [
      "Train on 4615 samples, validate on 1979 samples\n",
      "Epoch 1/20\n",
      "4615/4615 [==============================] - 13s 3ms/step - loss: 0.1081 - acc: 0.9627 - val_loss: 0.0227 - val_acc: 0.9919\n",
      "Epoch 2/20\n",
      "4615/4615 [==============================] - 13s 3ms/step - loss: 0.0084 - acc: 0.9983 - val_loss: 0.0175 - val_acc: 0.9949\n",
      "Epoch 3/20\n",
      "4615/4615 [==============================] - 13s 3ms/step - loss: 0.0028 - acc: 0.9996 - val_loss: 0.0175 - val_acc: 0.9934\n",
      "Epoch 4/20\n",
      "4615/4615 [==============================] - 13s 3ms/step - loss: 0.0011 - acc: 1.0000 - val_loss: 0.0181 - val_acc: 0.9944\n",
      "Epoch 5/20\n",
      "4615/4615 [==============================] - 13s 3ms/step - loss: 5.9346e-04 - acc: 1.0000 - val_loss: 0.0182 - val_acc: 0.9939\n",
      "Epoch 6/20\n",
      "4615/4615 [==============================] - 13s 3ms/step - loss: 4.1120e-04 - acc: 1.0000 - val_loss: 0.0185 - val_acc: 0.9939\n",
      "Epoch 7/20\n",
      "4615/4615 [==============================] - 13s 3ms/step - loss: 2.7378e-04 - acc: 1.0000 - val_loss: 0.0187 - val_acc: 0.9939\n",
      "Epoch 8/20\n",
      "4615/4615 [==============================] - 13s 3ms/step - loss: 2.0397e-04 - acc: 1.0000 - val_loss: 0.0190 - val_acc: 0.9939\n",
      "Epoch 9/20\n",
      "4615/4615 [==============================] - 13s 3ms/step - loss: 1.5953e-04 - acc: 1.0000 - val_loss: 0.0193 - val_acc: 0.9944\n",
      "Epoch 10/20\n",
      "4615/4615 [==============================] - 13s 3ms/step - loss: 1.2839e-04 - acc: 1.0000 - val_loss: 0.0195 - val_acc: 0.9944\n",
      "Epoch 11/20\n",
      "4615/4615 [==============================] - 13s 3ms/step - loss: 1.0486e-04 - acc: 1.0000 - val_loss: 0.0197 - val_acc: 0.9939\n",
      "Epoch 12/20\n",
      "4615/4615 [==============================] - 14s 3ms/step - loss: 8.7887e-05 - acc: 1.0000 - val_loss: 0.0198 - val_acc: 0.9939\n",
      "Epoch 13/20\n",
      "4615/4615 [==============================] - 13s 3ms/step - loss: 7.3803e-05 - acc: 1.0000 - val_loss: 0.0200 - val_acc: 0.9939\n",
      "Epoch 14/20\n",
      "4615/4615 [==============================] - 13s 3ms/step - loss: 6.3114e-05 - acc: 1.0000 - val_loss: 0.0201 - val_acc: 0.9944\n",
      "Epoch 15/20\n",
      "4615/4615 [==============================] - 14s 3ms/step - loss: 5.4086e-05 - acc: 1.0000 - val_loss: 0.0203 - val_acc: 0.9944\n",
      "Epoch 16/20\n",
      "4615/4615 [==============================] - 14s 3ms/step - loss: 4.7144e-05 - acc: 1.0000 - val_loss: 0.0205 - val_acc: 0.9939\n",
      "Epoch 17/20\n",
      "4615/4615 [==============================] - 13s 3ms/step - loss: 4.1211e-05 - acc: 1.0000 - val_loss: 0.0207 - val_acc: 0.9939\n",
      "Epoch 18/20\n",
      "4615/4615 [==============================] - 14s 3ms/step - loss: 3.6573e-05 - acc: 1.0000 - val_loss: 0.0208 - val_acc: 0.9939\n",
      "Epoch 19/20\n",
      "4615/4615 [==============================] - 13s 3ms/step - loss: 3.2576e-05 - acc: 1.0000 - val_loss: 0.0210 - val_acc: 0.9939\n",
      "Epoch 20/20\n",
      "4615/4615 [==============================] - 13s 3ms/step - loss: 2.9131e-05 - acc: 1.0000 - val_loss: 0.0212 - val_acc: 0.9939\n"
     ]
    }
   ],
   "source": [
    "from keras.layers.core import Dense\n",
    "from keras.layers.convolutional import Conv1D\n",
    "from keras.layers.embeddings import Embedding\n",
    "from keras.layers.pooling import GlobalMaxPooling1D\n",
    "from keras.models import Sequential\n",
    "\n",
    "model = Sequential()\n",
    "model.add(Embedding(len(word2index) + 1, EMBED_SIZE, \n",
    "                    input_length=maxlen,\n",
    "                    weights=[embedding_weights],\n",
    "                    trainable=True))\n",
    "\n",
    "model.add(Conv1D(256, kernel_size=3, activation=\"relu\"))\n",
    "model.add(GlobalMaxPooling1D())\n",
    "model.add(Dense(2, activation=\"softmax\"))\n",
    "\n",
    "model.compile(optimizer=\"adam\", loss=\"categorical_crossentropy\", metrics=[\"accuracy\"])\n",
    "\n",
    "history = model.fit(X_train, Y_train, \n",
    "                    batch_size=BATCH_SIZE,\n",
    "                    epochs=EPOCHS,\n",
    "                    validation_data=(X_test, Y_test))"
   ]
  },
  {
   "cell_type": "code",
   "execution_count": 11,
   "metadata": {},
   "outputs": [
    {
     "data": {
      "image/png": "[encoded data removed]",
      "text/plain": [
       "<matplotlib.figure.Figure at 0x7f1035d73b38>"
      ]
     },
     "metadata": {},
     "output_type": "display_data"
    }
   ],
   "source": [
    "# trainmatplotlib.pyplot화를 출력해 봅니다.\n",
    "\n",
    "import matplotlib.pyplot as plt\n",
    "%matplotlib inline\n",
    "\n",
    "plt.subplot(211)\n",
    "plt.title(\"accuracy\")\n",
    "plt.plot(history.history[\"acc\"], color=\"r\", label=\"train\")\n",
    "plt.plot(history.history[\"val_acc\"], color=\"b\", label=\"validation\")\n",
    "plt.legend(loc=\"best\")\n",
    "\n",
    "plt.subplot(212)\n",
    "plt.title(\"loss\")\n",
    "plt.plot(history.history[\"loss\"], color=\"r\", label=\"train\")\n",
    "plt.plot(history.history[\"val_loss\"], color=\"b\", label=\"validation\")\n",
    "plt.legend(loc=\"best\")\n",
    "\n",
    "plt.tight_layout()\n",
    "plt.show()"
   ]
  },
  {
   "cell_type": "markdown",
   "metadata": {},
   "source": [
    "### DO! IT! yourself"
   ]
  },
  {
   "cell_type": "code",
   "execution_count": 16,
   "metadata": {},
   "outputs": [
    {
     "data": {
      "text/plain": [
       "array([[  4.70524756e-05,   9.99952912e-01]], dtype=float32)"
      ]
     },
     "execution_count": 16,
     "metadata": {},
     "output_type": "execute_result"
    }
   ],
   "source": [
    "# 직접 문장을 만들어서 모델의 결과를 봅시다.\n",
    "\n",
    "sentence = 'I loved Boston and MIT so much and still do.'\n",
    "words = sentence.split()\n",
    "\n",
    "wids = []\n",
    "for word in words:\n",
    "    wids.append(word2index[word])\n",
    "\n",
    "my_test = pad_sequences([wids], maxlen=maxlen)\n",
    "\n",
    "model.predict(my_test)"
   ]
  },
  {
   "cell_type": "markdown",
   "metadata": {},
   "source": [
    "## Contact me\n",
    "케라스를 사랑하는 개발자 입니다.\n",
    "\n",
    "질문, 조언, contribtuion 등 소통은 언제나 환영합니다.\n",
    "\n",
    "Anthony Kim(김동현) : artit.anthony@gmail.com"
   ]
  }
 ],
 "metadata": {
  "kernelspec": {
   "display_name": "Python 3",
   "language": "python",
   "name": "python3"
  },
  "language_info": {
   "codemirror_mode": {
    "name": "ipython",
    "version": 3
   },
   "file_extension": ".py",
   "mimetype": "text/x-python",
   "name": "python",
   "nbconvert_exporter": "python",
   "pygments_lexer": "ipython3",
   "version": "3.5.4"
  }
 },
 "nbformat": 4,
 "nbformat_minor": 2
}
